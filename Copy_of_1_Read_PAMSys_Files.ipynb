{
  "nbformat": 4,
  "nbformat_minor": 0,
  "metadata": {
    "colab": {
      "provenance": [],
      "authorship_tag": "ABX9TyOvdo5GM2P1V0qhPkqGxLhl",
      "include_colab_link": true
    },
    "kernelspec": {
      "name": "python3",
      "display_name": "Python 3"
    },
    "language_info": {
      "name": "python"
    }
  },
  "cells": [
    {
      "cell_type": "markdown",
      "metadata": {
        "id": "view-in-github",
        "colab_type": "text"
      },
      "source": [
        "<a href=\"https://colab.research.google.com/github/rmishra3/Python-Basics/blob/main/Copy_of_1_Read_PAMSys_Files.ipynb\" target=\"_parent\"><img src=\"https://colab.research.google.com/assets/colab-badge.svg\" alt=\"Open In Colab\"/></a>"
      ]
    },
    {
      "cell_type": "code",
      "execution_count": null,
      "metadata": {
        "id": "kwAT3T7RXjt1"
      },
      "outputs": [],
      "source": [
        "import os\n",
        "import pandas as pd\n",
        "\n",
        "# Set the folder path containing the Excel files\n",
        "folder_path = r\"C:\\Users\\ram.mishra\\Box\\BioDigit PSP\\data\\Sensor data\\Analyzed\"\n",
        "\n",
        "# Initialize an empty DataFrame to store the data\n",
        "data_frame = pd.DataFrame()\n",
        "reshaped_df1 = pd.DataFrame()\n",
        "reshaped_df2 = pd.DataFrame()\n",
        "reshaped_df3 = pd.DataFrame()\n",
        "\n",
        "file_list = pd.DataFrame()\n",
        "# Set the sheet name to read from\n",
        "sheet_name1 = 'Postural Summary'\n",
        "sheet_name2 = 'Walking Characterization'\n",
        "sheet_name3 = 'Transitions'\n",
        "\n",
        "# Set the column names for the extracted data\n",
        "column_names1 = [\n",
        "    'Sit_Duration', 'Stand_Duration', 'Walk_Duration', 'Run_Duration',\n",
        "    'Lying_Duration', 'Non_Compliance_Duration',\n",
        "    'Sit_Percentage', 'Stand_Percentage', 'Walk_Percentage', 'Run_Percentage',\n",
        "    'Lying_Percentage', 'Non_Compliance_Percentage'\n",
        "]\n",
        "column_names2 = [\n",
        "    'Daily_Walking_Bout', 'Daily_Step_Count', 'Step_Count_Max', 'Step_Count_Avg',\n",
        "    'Step_Count_50_Percentile', 'Step_Count_90_Percentile', 'Step_Count_95_Percentile',\n",
        "    'Cadence_Avg', 'Cadence_50_Percentile', 'Cadence_90_Percentile', 'Cadence_95_Percentile',\n",
        "    'Walk_Dur_Max', 'Walk_Dur_Avg', 'Walk_Dur_50_Percentile', 'Walk_Dur_90_Percentile', 'Walk_Dur_95_Percentile',\n",
        "    'Var_Walk_Dur_Max', 'Var_Walk_Dur_Avg', 'Var_Walk_Dur_50_Percentile', 'Var_Walk_Dur_90_Percentile',\n",
        "    'Var_Walk_Dur_95_Percentile'\n",
        "]\n",
        "\n",
        "column_names3 = [\n",
        "    'Stand_to_Sit_Number', 'Stand_to_Sit_Dur_10_Per', 'Stand_to_Sit_Dur_50_Per', 'Stand_to_Sit_Dur_90_Per', 'Stand_to_Sit_Dur_Avg', 'Stand_to_Sit_Dur_SD',\n",
        "    'Sit_to_Stand_Number', 'Sit_to_Stand_Dur_10_Per', 'Sit_to_Stand_Dur_50_Per', 'Sit_to_Stand_Dur_90_Per', 'Sit_to_Stand_Dur_Avg', 'Sit_to_Stand_SD',\n",
        "    'Total_Recording_Time'\n",
        "]\n",
        "# Loop through all files in the folder\n",
        "for file_name in os.listdir(folder_path):\n",
        "    # Check if the file is an Excel file\n",
        "    if file_name.endswith('.xlsx') or file_name.endswith('.xls'):\n",
        "        # Step 1: Storing Cummulative Postures\n",
        "        # Set the file path\n",
        "        file_path = os.path.join(folder_path, file_name)\n",
        "        # Read the 'Postural Summary' sheet from the Excel file\n",
        "        excel_data1 = pd.read_excel(file_path, sheet_name=sheet_name1)\n",
        "        # Select a subset of data from the sheet\n",
        "        selected_data1 = excel_data1.iloc[10:16, [3, 4]]\n",
        "        # Transpose and reshape the data to a single row\n",
        "        reshaped_data1 = selected_data1.transpose().values.reshape(1, -1)\n",
        "        # Create a DataFrame from the reshaped data\n",
        "        reshaped_df1 = pd.concat([reshaped_df1, pd.DataFrame(reshaped_data1)], ignore_index=True)\n",
        "\n",
        "        # Step 2: Storing File Name\n",
        "        cc_File=pd.DataFrame({'File_Name': [file_name]})\n",
        "        file_list = pd.concat([file_list,cc_File],ignore_index=True)\n",
        "\n",
        "        # Step 3: Storing Walking Characteristics\n",
        "        # Read the 'Postural Summary' sheet from the Excel file\n",
        "        excel_data2 = pd.read_excel(file_path, sheet_name=sheet_name2)\n",
        "        # Select a subset of data from the sheet\n",
        "        selected_data2 = excel_data2.iloc[[3, 7], 7:18]\n",
        "        # Transpose and reshape the data to a single row\n",
        "        reshaped_data2 = selected_data2.values.reshape(1, -1)\n",
        "        reshaped_data22 = pd.DataFrame(reshaped_data2[:, 0:21])\n",
        "        # Create a DataFrame from the reshaped data\n",
        "        reshaped_df2 = pd.concat([reshaped_df2, pd.DataFrame(reshaped_data22)], ignore_index=True)\n",
        "\n",
        "        # Step 3: Storing Walking Characteristics\n",
        "        # Read the 'Postural Transition' sheet from the Excel file\n",
        "        excel_data3 = pd.read_excel(file_path, sheet_name=sheet_name3)\n",
        "        # Select a subset of data from the sheet\n",
        "        selected_data3 = excel_data3.iloc[[2, 3], 4:10]\n",
        "        # Transpose and reshape the data to a single row\n",
        "        reshaped_data3 = pd.DataFrame(selected_data3.values.reshape(1, -1))\n",
        "        reshaped_data3 = pd.concat([reshaped_data3,pd.DataFrame([excel_data1.iloc[7,3]])],axis =1, ignore_index=True)\n",
        "        # Create a DataFrame from the reshaped data\n",
        "        reshaped_df3 = pd.concat([reshaped_df3, reshaped_data3], ignore_index=True)\n",
        "\n",
        "reshaped_df1.columns = column_names1\n",
        "reshaped_df2.columns = column_names2\n",
        "reshaped_df3.columns = column_names3\n",
        "\n",
        "data_frame = pd.concat([file_list, reshaped_df1, reshaped_df2, reshaped_df3], axis=1)\n",
        "Destination_file_path = os.path.join(folder_path, 'Summary.xlsx')\n",
        "data_frame.to_excel(Destination_file_path, index=False)\n"
      ]
    }
  ]
}