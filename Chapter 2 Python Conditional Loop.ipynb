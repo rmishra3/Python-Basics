{
 "cells": [
  {
   "cell_type": "code",
   "execution_count": 1,
   "metadata": {},
   "outputs": [
    {
     "name": "stdout",
     "output_type": "stream",
     "text": [
      "Lesser\n"
     ]
    }
   ],
   "source": [
    "# If else conditional statment\n",
    "x=0.04\n",
    "if x>=0.5:\n",
    "    print('Greater')\n",
    "else:\n",
    "    print('Lesser')"
   ]
  },
  {
   "cell_type": "code",
   "execution_count": 4,
   "metadata": {},
   "outputs": [
    {
     "name": "stdout",
     "output_type": "stream",
     "text": [
      "Medium\n"
     ]
    }
   ],
   "source": [
    "# Extended If else conditional statment\n",
    "x=0.4\n",
    "if x>=0.5:\n",
    "    print('Greater')\n",
    "elif x<=0.3:\n",
    "    print('Lesser')\n",
    "else:\n",
    "    print('Medium')"
   ]
  },
  {
   "cell_type": "code",
   "execution_count": 6,
   "metadata": {},
   "outputs": [
    {
     "name": "stdout",
     "output_type": "stream",
     "text": [
      "Ram kinker's name is in the list\n"
     ]
    }
   ],
   "source": [
    "# Using \"in\"\n",
    "Names=['Ram sharan','Ram Nayan','Ram Mohan','Ram kinker']\n",
    "'Ram kinker' in Names\n",
    "if 'Ram kinker' in Names:\n",
    "    print('Ram kinker\\'s name is in the list')"
   ]
  },
  {
   "cell_type": "code",
   "execution_count": 11,
   "metadata": {},
   "outputs": [
    {
     "name": "stdout",
     "output_type": "stream",
     "text": [
      "59\n",
      "Pass\n",
      "25\n",
      "Extraordinary\n"
     ]
    },
    {
     "data": {
      "text/plain": [
       "[59]"
      ]
     },
     "execution_count": 11,
     "metadata": {},
     "output_type": "execute_result"
    }
   ],
   "source": [
    "Marks =[59, 25,12,45,66,95,54,46,45,55,65,87,78]\n",
    "Mark_list=[]\n",
    "for i in Marks:\n",
    "    print(i)\n",
    "    if i>50:\n",
    "        Mark_list.append(i)\n",
    "        print('Pass')\n",
    "    elif i<30:\n",
    "        print('Extraordinary')\n",
    "        break\n",
    "Mark_list"
   ]
  },
  {
   "cell_type": "code",
   "execution_count": 25,
   "metadata": {},
   "outputs": [
    {
     "name": "stdout",
     "output_type": "stream",
     "text": [
      "ram mohan\n"
     ]
    }
   ],
   "source": [
    "# RUNNING A LOOP WITH ENUMERATE:\n",
    "Name={'ram sharan','ram nayan','ram mohan','ram kinker'}\n",
    "idx, i in enumerate(Name)\n",
    "print(i)"
   ]
  },
  {
   "cell_type": "code",
   "execution_count": 8,
   "metadata": {},
   "outputs": [
    {
     "name": "stdout",
     "output_type": "stream",
     "text": [
      "1\n",
      "3\n",
      "5\n"
     ]
    }
   ],
   "source": [
    "# RUNNING A LOOP WITH RANGE: range(start,stop,step)\n",
    "x = range(1, 6,2)\n",
    "for n in x:\n",
    "    print(n)"
   ]
  },
  {
   "cell_type": "code",
   "execution_count": 23,
   "metadata": {},
   "outputs": [
    {
     "name": "stdout",
     "output_type": "stream",
     "text": [
      "0 Ram Nayan\n",
      "1 Ram Kinker\n",
      "2 Ram Sharan\n",
      "3 Ram Mohan\n"
     ]
    }
   ],
   "source": [
    "# RUNNING A LOOP WITH ENUMERATE:\n",
    "Name={'ram sharan','ram nayan','ram mohan','ram kinker'}\n",
    "for idx, i in enumerate(Name):\n",
    "    print(idx, i.title())"
   ]
  },
  {
   "cell_type": "code",
   "execution_count": null,
   "metadata": {},
   "outputs": [],
   "source": [
    "for i in range(10,1):\n",
    "    print(i)\n",
    "    if i>50:\n",
    "        Mark_list.append(i)\n",
    "        print('Pass')\n",
    "    elif i<30:\n",
    "        print('Extraordinary')\n",
    "        break\n",
    "Mark_list"
   ]
  },
  {
   "cell_type": "code",
   "execution_count": 11,
   "metadata": {},
   "outputs": [
    {
     "name": "stdout",
     "output_type": "stream",
     "text": [
      "Name\n",
      "Gender\n",
      "Age\n",
      "BMI\n"
     ]
    }
   ],
   "source": [
    "# Loop through Dictionary Keys\n",
    "Patient={\n",
    "    'Name': 'Ram',\n",
    "    'Gender': 'Male',\n",
    "    'Age': 35,\n",
    "    'BMI':29\n",
    "}\n",
    "for key in Patient.keys():\n",
    "    print(key)"
   ]
  },
  {
   "cell_type": "code",
   "execution_count": 12,
   "metadata": {},
   "outputs": [
    {
     "name": "stdout",
     "output_type": "stream",
     "text": [
      "Ram\n",
      "Male\n",
      "35\n",
      "29\n"
     ]
    }
   ],
   "source": [
    "# Loop through Dictionary Values\n",
    "Patient={\n",
    "    'Name': 'Ram',\n",
    "    'Gender': 'Male',\n",
    "    'Age': 35,\n",
    "    'BMI':29\n",
    "}\n",
    "for value in Patient.values():\n",
    "    print(value)"
   ]
  },
  {
   "cell_type": "code",
   "execution_count": 14,
   "metadata": {},
   "outputs": [
    {
     "name": "stdout",
     "output_type": "stream",
     "text": [
      "Name\n",
      "Ram\n",
      "\n",
      "\n",
      "Gender\n",
      "Male\n",
      "\n",
      "\n",
      "Age\n",
      "35\n",
      "\n",
      "\n",
      "BMI\n",
      "29\n",
      "\n",
      "\n"
     ]
    }
   ],
   "source": [
    "# Loop through Dictionary Items\n",
    "Patient={\n",
    "    'Name': 'Ram',\n",
    "    'Gender': 'Male',\n",
    "    'Age': 35,\n",
    "    'BMI':29\n",
    "}\n",
    "for key, value in Patient.items():\n",
    "    print(key)\n",
    "    print(value)\n",
    "    print('\\n')"
   ]
  },
  {
   "cell_type": "code",
   "execution_count": 16,
   "metadata": {},
   "outputs": [
    {
     "name": "stdout",
     "output_type": "stream",
     "text": [
      "Score is still below Total Score 0.3191904522035487\n",
      "Score is still below Total Score 0.719378414885048\n",
      "Score is still below Total Score 1.6800485119006354\n",
      "Score is still below Total Score 2.183510864124025\n",
      "Score is still below Total Score 2.9224269320224714\n",
      "Score is still below Total Score 3.6906434052151775\n",
      "Score is still below Total Score 4.628369898988801\n",
      "Score is still below Total Score 5.084886406728955\n",
      "Score is still below Total Score 5.357981243832367\n",
      "Score is still below Total Score 6.1424755457077795\n",
      "Score is still below Total Score 6.9036442274973115\n",
      "Score is still below Total Score 7.825873998547241\n",
      "Score is still below Total Score 8.30528297558694\n",
      "Score is still below Total Score 8.401070593632117\n",
      "Score is still below Total Score 8.482959613216524\n",
      "Score is still below Total Score 9.275484825374107\n",
      "Score is still below Total Score 9.87828072070699\n",
      "Score is still below Total Score 10.500238221571605\n"
     ]
    }
   ],
   "source": [
    "# While Loop\n",
    "Total_score = 10\n",
    "Score=0\n",
    "from random import random\n",
    "while (Score<=Total_score):\n",
    "    Score=Score+random()\n",
    "    print('Score is still below Total Score', Score)"
   ]
  },
  {
   "cell_type": "code",
   "execution_count": 20,
   "metadata": {},
   "outputs": [
    {
     "name": "stdout",
     "output_type": "stream",
     "text": [
      "Current score 5.470655371591103 is below Total Score\n",
      "Current score 5.483525625429316 is below Total Score\n",
      "Current score 6.112004274900907 is below Total Score\n",
      "Current score 6.165837015351753 is below Total Score\n",
      "Current score 6.868894785263034 is below Total Score\n",
      "Current score 7.570622498652771 is below Total Score\n",
      "Current score 8.186811532593973 is below Total Score\n",
      "Current score 8.616881560263382 is below Total Score\n",
      "Current score 9.464504207568622 is below Total Score\n",
      "Current score 10.324335619536527 is below Total Score\n"
     ]
    }
   ],
   "source": [
    "# While Loop with the use of continue\n",
    "Total_score = 10\n",
    "Score=0\n",
    "from random import random\n",
    "while (Score<=Total_score):\n",
    "    Score=Score+random()\n",
    "    if Score<5:\n",
    "        continue\n",
    "    print('Current score {} is below Total Score'.format(Score))\n",
    " "
   ]
  },
  {
   "cell_type": "code",
   "execution_count": 21,
   "metadata": {},
   "outputs": [
    {
     "name": "stdout",
     "output_type": "stream",
     "text": [
      "['Ram Nayan', 'Ram Kinker', 'Ram Sharan', 'Ram Mohan']\n"
     ]
    }
   ],
   "source": [
    "# List Comprehension\n",
    "Name={'ram sharan','ram nayan','ram mohan','ram kinker'}\n",
    "Name_cap=[name.title() for name in Name]\n",
    "print(Name_cap)"
   ]
  },
  {
   "cell_type": "markdown",
   "metadata": {},
   "source": []
  }
 ],
 "metadata": {
  "kernelspec": {
   "display_name": "Python 3",
   "language": "python",
   "name": "python3"
  },
  "language_info": {
   "codemirror_mode": {
    "name": "ipython",
    "version": 3
   },
   "file_extension": ".py",
   "mimetype": "text/x-python",
   "name": "python",
   "nbconvert_exporter": "python",
   "pygments_lexer": "ipython3",
   "version": "3.8.5"
  }
 },
 "nbformat": 4,
 "nbformat_minor": 4
}
