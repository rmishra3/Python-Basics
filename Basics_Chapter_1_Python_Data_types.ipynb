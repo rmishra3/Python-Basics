{
  "cells": [
    {
      "cell_type": "markdown",
      "metadata": {
        "id": "view-in-github",
        "colab_type": "text"
      },
      "source": [
        "<a href=\"https://colab.research.google.com/github/rmishra3/Python-Basics/blob/main/Basics_Chapter_1_Python_Data_types.ipynb\" target=\"_parent\"><img src=\"https://colab.research.google.com/assets/colab-badge.svg\" alt=\"Open In Colab\"/></a>"
      ]
    },
    {
      "cell_type": "markdown",
      "metadata": {
        "id": "uDmcoWaG9GII"
      },
      "source": [
        "# C: Creating Variables"
      ]
    },
    {
      "cell_type": "code",
      "execution_count": null,
      "metadata": {
        "id": "teKd8Auj9GIL",
        "outputId": "04ff62f3-8cdc-45da-f245-77453cac38a6",
        "colab": {
          "base_uri": "https://localhost:8080/"
        }
      },
      "outputs": [
        {
          "output_type": "execute_result",
          "data": {
            "text/plain": [
              "[1, 22, 32, 12, 'ter', 2.14]"
            ]
          },
          "metadata": {},
          "execution_count": 3
        }
      ],
      "source": [
        "# List Variable\n",
        "list_var = [1,22,32,12,'ter',2.14]\n",
        "list_var"
      ]
    },
    {
      "cell_type": "code",
      "source": [
        "# Creation of DataFrame\n",
        "import pandas as pd\n",
        "\n",
        "# create a dictionary with the data\n",
        "data = {'Name': ['John', 'Emily', 'Tom', 'Harry'],\n",
        "        'Age': [25, 30, 20, 28],\n",
        "        'Country': ['USA', 'Canada', 'UK', 'Australia']}\n",
        "\n",
        "# create a data frame from the dictionary\n",
        "df = pd.DataFrame(data)\n",
        "\n",
        "# print the data frame\n",
        "print(df)"
      ],
      "metadata": {
        "id": "gXE0SxE9-o-n",
        "outputId": "8ca434a3-b755-433a-924e-2a2ecacef21f",
        "colab": {
          "base_uri": "https://localhost:8080/"
        }
      },
      "execution_count": null,
      "outputs": [
        {
          "output_type": "stream",
          "name": "stdout",
          "text": [
            "    Name  Age    Country\n",
            "0   John   25        USA\n",
            "1  Emily   30     Canada\n",
            "2    Tom   20         UK\n",
            "3  Harry   28  Australia\n"
          ]
        }
      ]
    },
    {
      "cell_type": "code",
      "execution_count": null,
      "metadata": {
        "id": "ojVfh7un9GIN"
      },
      "outputs": [],
      "source": [
        "# set Variable: keeps the Unique values\n",
        "set_var={1,3,2,4,4,5,4,4}\n",
        "set_var\n",
        "list_set_var=list(set_var) # Generally used"
      ]
    },
    {
      "cell_type": "code",
      "execution_count": null,
      "metadata": {
        "id": "rcxZaUvU9GIN",
        "outputId": "621d22d1-4ba3-42e8-8115-0451d6267def"
      },
      "outputs": [
        {
          "data": {
            "text/plain": [
              "'Ram'"
            ]
          },
          "execution_count": 30,
          "metadata": {},
          "output_type": "execute_result"
        }
      ],
      "source": [
        "# Dictionary Variable\n",
        "dict_var={\n",
        "    'Name': 'Ram',\n",
        "    'Roll Number': 17,\n",
        "    'Age': 35\n",
        "}\n",
        "dict_var['Name']"
      ]
    },
    {
      "cell_type": "code",
      "execution_count": null,
      "metadata": {
        "id": "owzxhCKZ9GIO",
        "outputId": "0eb53ef5-4980-4257-ecea-c9277c14751e"
      },
      "outputs": [
        {
          "data": {
            "text/plain": [
              "(1, 2, 5, 45, 'k')"
            ]
          },
          "execution_count": 28,
          "metadata": {},
          "output_type": "execute_result"
        }
      ],
      "source": [
        "# Tuple: Similar to list but it can not be edited (immutable)\n",
        "tuple_var=(1,2,5,45,'k')\n",
        "tuple_var"
      ]
    },
    {
      "cell_type": "markdown",
      "metadata": {
        "id": "d8OM2app9GIO"
      },
      "source": [
        "# R: Read"
      ]
    },
    {
      "cell_type": "code",
      "execution_count": null,
      "metadata": {
        "id": "F9V3iOCE9GIP",
        "outputId": "d1f2c0dd-4588-465d-c014-b65ebed76ae6"
      },
      "outputs": [
        {
          "data": {
            "text/plain": [
              "[1, 22, 32, 12, 'tt', 2.14]"
            ]
          },
          "execution_count": 39,
          "metadata": {},
          "output_type": "execute_result"
        }
      ],
      "source": [
        "list_var[-1]\n",
        "len(list_var)\n",
        "list_var"
      ]
    },
    {
      "cell_type": "code",
      "execution_count": null,
      "metadata": {
        "id": "KupfpXJW9GIP",
        "outputId": "b3b26b3a-baff-475c-caf0-f36e72a991b4"
      },
      "outputs": [
        {
          "data": {
            "text/plain": [
              "3"
            ]
          },
          "execution_count": 40,
          "metadata": {},
          "output_type": "execute_result"
        }
      ],
      "source": [
        "dict_var['Age']\n",
        "dict_var\n",
        "dict_var.keys()\n",
        "dict_var.values()\n",
        "len(dict_var)"
      ]
    },
    {
      "cell_type": "markdown",
      "metadata": {
        "id": "adsvDje59GIQ"
      },
      "source": [
        "# U: Update"
      ]
    },
    {
      "cell_type": "code",
      "execution_count": null,
      "metadata": {
        "id": "H-Z3aakD9GIQ",
        "outputId": "bed66ba2-038c-4ce6-c8fd-eaf8574fd6d6"
      },
      "outputs": [
        {
          "data": {
            "text/plain": [
              "[1, 22, 'Elon Musk', 136, 12, 'tt', 2.14, 25, 25, 25, 25, 25, 25, 25, 25, 25]"
            ]
          },
          "execution_count": 52,
          "metadata": {},
          "output_type": "execute_result"
        }
      ],
      "source": [
        "list_var\n",
        "list_var.append(25)\n",
        "list_var\n",
        "list_var[2]\n",
        "list_var[2]=136\n",
        "list_var.insert(2,'Elon Musk')\n",
        "list_var"
      ]
    },
    {
      "cell_type": "code",
      "execution_count": null,
      "metadata": {
        "id": "2Nm-J8JP9GIQ",
        "outputId": "a4315127-c648-4aa5-f5fb-4f41fbb67f60"
      },
      "outputs": [
        {
          "data": {
            "text/plain": [
              "{'Name': 'Ram', 'Roll Number': 17, 'Age': 35, 'City': 'Delhi'}"
            ]
          },
          "execution_count": 58,
          "metadata": {},
          "output_type": "execute_result"
        }
      ],
      "source": [
        "# Dictionary Variable\n",
        "# Transfer value from a dictionary to another variable\n",
        "dict_var\n",
        "roll=dict_var['Roll Number']\n",
        "roll\n",
        "type(roll)\n",
        "# Add another key and value in an existing dictionary\n",
        "dict_var['City']='Delhi'\n",
        "dict_var"
      ]
    },
    {
      "cell_type": "markdown",
      "metadata": {
        "id": "oErxbdRS9GIR"
      },
      "source": [
        "# D: Delete"
      ]
    },
    {
      "cell_type": "code",
      "execution_count": null,
      "metadata": {
        "id": "ImVQJ8Tr9GIR",
        "outputId": "8249a0af-35d9-4659-ca36-19e07c42d67e"
      },
      "outputs": [
        {
          "data": {
            "text/plain": [
              "[1, 22, 'Elon Musk', 12, 'tt', 2.14, 25, 25, 25, 25, 25, 25, 25, 25, 25]"
            ]
          },
          "execution_count": 53,
          "metadata": {},
          "output_type": "execute_result"
        }
      ],
      "source": [
        "del list_var[3]\n",
        "list_var"
      ]
    },
    {
      "cell_type": "code",
      "execution_count": null,
      "metadata": {
        "id": "ZPKvAyOy9GIR",
        "outputId": "3f4b6d48-be21-43d0-c731-cdbf8e4c2cee"
      },
      "outputs": [
        {
          "data": {
            "text/plain": [
              "{'Name': 'Ram', 'Roll Number': 17, 'Age': 35}"
            ]
          },
          "execution_count": 60,
          "metadata": {},
          "output_type": "execute_result"
        }
      ],
      "source": [
        "del dict_var['City']\n",
        "dict_var"
      ]
    },
    {
      "cell_type": "markdown",
      "metadata": {
        "id": "IHNV3Imc9GIS"
      },
      "source": [
        "# E: Edit"
      ]
    },
    {
      "cell_type": "code",
      "execution_count": null,
      "metadata": {
        "id": "AmtK1Gx39GIS"
      },
      "outputs": [],
      "source": []
    },
    {
      "cell_type": "code",
      "execution_count": null,
      "metadata": {
        "id": "ngepgQvo9GIS"
      },
      "outputs": [],
      "source": []
    },
    {
      "cell_type": "code",
      "execution_count": null,
      "metadata": {
        "id": "ecPvM4KL9GIS"
      },
      "outputs": [],
      "source": []
    }
  ],
  "metadata": {
    "kernelspec": {
      "display_name": "Python 3",
      "language": "python",
      "name": "python3"
    },
    "language_info": {
      "codemirror_mode": {
        "name": "ipython",
        "version": 3
      },
      "file_extension": ".py",
      "mimetype": "text/x-python",
      "name": "python",
      "nbconvert_exporter": "python",
      "pygments_lexer": "ipython3",
      "version": "3.8.5"
    },
    "colab": {
      "provenance": [],
      "include_colab_link": true
    }
  },
  "nbformat": 4,
  "nbformat_minor": 0
}