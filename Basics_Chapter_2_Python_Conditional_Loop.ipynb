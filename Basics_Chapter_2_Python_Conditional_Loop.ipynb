{
  "cells": [
    {
      "cell_type": "markdown",
      "metadata": {
        "id": "view-in-github",
        "colab_type": "text"
      },
      "source": [
        "<a href=\"https://colab.research.google.com/github/rmishra3/Python-Basics/blob/main/Basics_Chapter_2_Python_Conditional_Loop.ipynb\" target=\"_parent\"><img src=\"https://colab.research.google.com/assets/colab-badge.svg\" alt=\"Open In Colab\"/></a>"
      ]
    },
    {
      "cell_type": "code",
      "execution_count": null,
      "metadata": {
        "id": "ufyKzwgPJ_57",
        "outputId": "7734507c-3f8d-4e50-bb01-be2b462f3d3d"
      },
      "outputs": [
        {
          "name": "stdout",
          "output_type": "stream",
          "text": [
            "Lesser\n"
          ]
        }
      ],
      "source": [
        "# If else conditional statment\n",
        "x=0.04\n",
        "if x>=0.5:\n",
        "    print('Greater')\n",
        "else:\n",
        "    print('Lesser')"
      ]
    },
    {
      "cell_type": "code",
      "execution_count": null,
      "metadata": {
        "id": "qx3tGf-CJ_59",
        "outputId": "a101d397-349a-4efd-9e02-46e0b1d2c5bd"
      },
      "outputs": [
        {
          "name": "stdout",
          "output_type": "stream",
          "text": [
            "Medium\n"
          ]
        }
      ],
      "source": [
        "# Extended If else conditional statment\n",
        "x=0.4\n",
        "if x>=0.5:\n",
        "    print('Greater')\n",
        "elif x<=0.3:\n",
        "    print('Lesser')\n",
        "else:\n",
        "    print('Medium')"
      ]
    },
    {
      "cell_type": "code",
      "execution_count": null,
      "metadata": {
        "id": "UOL3F-GyJ_59",
        "outputId": "0c58a8a3-4880-4e56-c150-29d1520e68ea"
      },
      "outputs": [
        {
          "name": "stdout",
          "output_type": "stream",
          "text": [
            "Ram kinker's name is in the list\n"
          ]
        }
      ],
      "source": [
        "# Using \"in\"\n",
        "Names=['Ram sharan','Ram Nayan','Ram Mohan','Ram kinker']\n",
        "'Ram kinker' in Names\n",
        "if 'Ram kinker' in Names:\n",
        "    print('Ram kinker\\'s name is in the list')"
      ]
    },
    {
      "cell_type": "code",
      "execution_count": null,
      "metadata": {
        "id": "jHHpZPkZJ_5-",
        "outputId": "4e13d178-b4d9-4cd7-9bee-95b180735936"
      },
      "outputs": [
        {
          "name": "stdout",
          "output_type": "stream",
          "text": [
            "59\n",
            "Pass\n",
            "25\n",
            "Extraordinary\n"
          ]
        },
        {
          "data": {
            "text/plain": [
              "[59]"
            ]
          },
          "execution_count": 11,
          "metadata": {},
          "output_type": "execute_result"
        }
      ],
      "source": [
        "Marks =[59, 25,12,45,66,95,54,46,45,55,65,87,78]\n",
        "Mark_list=[]\n",
        "for i in Marks:\n",
        "    print(i)\n",
        "    if i>50:\n",
        "        Mark_list.append(i)\n",
        "        print('Pass')\n",
        "    elif i<30:\n",
        "        print('Extraordinary')\n",
        "        break\n",
        "Mark_list"
      ]
    },
    {
      "cell_type": "code",
      "execution_count": null,
      "metadata": {
        "id": "XKqy3L7kJ_5-",
        "outputId": "4ed78be8-8694-4155-aa4b-93f4becba262"
      },
      "outputs": [
        {
          "name": "stdout",
          "output_type": "stream",
          "text": [
            "ram mohan\n"
          ]
        }
      ],
      "source": [
        "# RUNNING A LOOP WITH ENUMERATE:\n",
        "Name={'ram sharan','ram nayan','ram mohan','ram kinker'}\n",
        "idx, i in enumerate(Name)\n",
        "print(i)"
      ]
    },
    {
      "cell_type": "code",
      "execution_count": null,
      "metadata": {
        "id": "qWCp2EGzJ_5-",
        "outputId": "5794e54b-ea22-45f1-9fe4-e141fc43bfd1"
      },
      "outputs": [
        {
          "name": "stdout",
          "output_type": "stream",
          "text": [
            "1\n",
            "3\n",
            "5\n"
          ]
        }
      ],
      "source": [
        "# RUNNING A LOOP WITH RANGE: range(start,stop,step)\n",
        "x = range(1, 6,2)\n",
        "for n in x:\n",
        "    print(n)"
      ]
    },
    {
      "cell_type": "code",
      "execution_count": null,
      "metadata": {
        "id": "86mB82VvJ_5_",
        "outputId": "c8ee8c68-23f6-4649-ab5a-4b4201301525"
      },
      "outputs": [
        {
          "name": "stdout",
          "output_type": "stream",
          "text": [
            "0 Ram Nayan\n",
            "1 Ram Kinker\n",
            "2 Ram Sharan\n",
            "3 Ram Mohan\n"
          ]
        }
      ],
      "source": [
        "# RUNNING A LOOP WITH ENUMERATE:\n",
        "Name={'ram sharan','ram nayan','ram mohan','ram kinker'}\n",
        "for idx, i in enumerate(Name):\n",
        "    print(idx, i.title())"
      ]
    },
    {
      "cell_type": "code",
      "execution_count": null,
      "metadata": {
        "id": "P9lkiPMlJ_5_"
      },
      "outputs": [],
      "source": [
        "for i in range(10,1):\n",
        "    print(i)\n",
        "    if i>50:\n",
        "        Mark_list.append(i)\n",
        "        print('Pass')\n",
        "    elif i<30:\n",
        "        print('Extraordinary')\n",
        "        break\n",
        "Mark_list"
      ]
    },
    {
      "cell_type": "code",
      "execution_count": null,
      "metadata": {
        "id": "XRbvO_KDJ_5_",
        "outputId": "29c85cb1-a494-4ba8-a7f8-2e0854d034db"
      },
      "outputs": [
        {
          "name": "stdout",
          "output_type": "stream",
          "text": [
            "Name\n",
            "Gender\n",
            "Age\n",
            "BMI\n"
          ]
        }
      ],
      "source": [
        "# Loop through Dictionary Keys\n",
        "Patient={\n",
        "    'Name': 'Ram',\n",
        "    'Gender': 'Male',\n",
        "    'Age': 35,\n",
        "    'BMI':29\n",
        "}\n",
        "for key in Patient.keys():\n",
        "    print(key)"
      ]
    },
    {
      "cell_type": "code",
      "execution_count": null,
      "metadata": {
        "id": "HezvErQOJ_6A",
        "outputId": "cd670362-ca8a-4b48-ff95-7becb1f89d46"
      },
      "outputs": [
        {
          "name": "stdout",
          "output_type": "stream",
          "text": [
            "Ram\n",
            "Male\n",
            "35\n",
            "29\n"
          ]
        }
      ],
      "source": [
        "# Loop through Dictionary Values\n",
        "Patient={\n",
        "    'Name': 'Ram',\n",
        "    'Gender': 'Male',\n",
        "    'Age': 35,\n",
        "    'BMI':29\n",
        "}\n",
        "for value in Patient.values():\n",
        "    print(value)"
      ]
    },
    {
      "cell_type": "code",
      "execution_count": null,
      "metadata": {
        "id": "tMoph_DMJ_6A",
        "outputId": "bb416ff6-fcdf-469f-d148-955eaf157678"
      },
      "outputs": [
        {
          "name": "stdout",
          "output_type": "stream",
          "text": [
            "Name\n",
            "Ram\n",
            "\n",
            "\n",
            "Gender\n",
            "Male\n",
            "\n",
            "\n",
            "Age\n",
            "35\n",
            "\n",
            "\n",
            "BMI\n",
            "29\n",
            "\n",
            "\n"
          ]
        }
      ],
      "source": [
        "# Loop through Dictionary Items\n",
        "Patient={\n",
        "    'Name': 'Ram',\n",
        "    'Gender': 'Male',\n",
        "    'Age': 35,\n",
        "    'BMI':29\n",
        "}\n",
        "for key, value in Patient.items():\n",
        "    print(key)\n",
        "    print(value)\n",
        "    print('\\n')"
      ]
    },
    {
      "cell_type": "code",
      "execution_count": null,
      "metadata": {
        "id": "c4_7NRqjJ_6A",
        "outputId": "1ee725c7-e6b2-4b66-9104-8e244350b5b9"
      },
      "outputs": [
        {
          "name": "stdout",
          "output_type": "stream",
          "text": [
            "Score is still below Total Score 0.3191904522035487\n",
            "Score is still below Total Score 0.719378414885048\n",
            "Score is still below Total Score 1.6800485119006354\n",
            "Score is still below Total Score 2.183510864124025\n",
            "Score is still below Total Score 2.9224269320224714\n",
            "Score is still below Total Score 3.6906434052151775\n",
            "Score is still below Total Score 4.628369898988801\n",
            "Score is still below Total Score 5.084886406728955\n",
            "Score is still below Total Score 5.357981243832367\n",
            "Score is still below Total Score 6.1424755457077795\n",
            "Score is still below Total Score 6.9036442274973115\n",
            "Score is still below Total Score 7.825873998547241\n",
            "Score is still below Total Score 8.30528297558694\n",
            "Score is still below Total Score 8.401070593632117\n",
            "Score is still below Total Score 8.482959613216524\n",
            "Score is still below Total Score 9.275484825374107\n",
            "Score is still below Total Score 9.87828072070699\n",
            "Score is still below Total Score 10.500238221571605\n"
          ]
        }
      ],
      "source": [
        "# While Loop\n",
        "Total_score = 10\n",
        "Score=0\n",
        "from random import random\n",
        "while (Score<=Total_score):\n",
        "    Score=Score+random()\n",
        "    print('Score is still below Total Score', Score)"
      ]
    },
    {
      "cell_type": "code",
      "execution_count": null,
      "metadata": {
        "id": "0Q-H0JUJJ_6B",
        "outputId": "4e248f2f-e7b9-4f58-aa06-90d0be23ec64"
      },
      "outputs": [
        {
          "name": "stdout",
          "output_type": "stream",
          "text": [
            "Current score 5.470655371591103 is below Total Score\n",
            "Current score 5.483525625429316 is below Total Score\n",
            "Current score 6.112004274900907 is below Total Score\n",
            "Current score 6.165837015351753 is below Total Score\n",
            "Current score 6.868894785263034 is below Total Score\n",
            "Current score 7.570622498652771 is below Total Score\n",
            "Current score 8.186811532593973 is below Total Score\n",
            "Current score 8.616881560263382 is below Total Score\n",
            "Current score 9.464504207568622 is below Total Score\n",
            "Current score 10.324335619536527 is below Total Score\n"
          ]
        }
      ],
      "source": [
        "# While Loop with the use of continue\n",
        "Total_score = 10\n",
        "Score=0\n",
        "from random import random\n",
        "while (Score<=Total_score):\n",
        "    Score=Score+random()\n",
        "    if Score<5:\n",
        "        continue\n",
        "    print('Current score {} is below Total Score'.format(Score))\n",
        " "
      ]
    },
    {
      "cell_type": "code",
      "execution_count": null,
      "metadata": {
        "id": "8mp55a5PJ_6B",
        "outputId": "925f121e-5ada-4ad3-c5f8-4c57e51c1388"
      },
      "outputs": [
        {
          "name": "stdout",
          "output_type": "stream",
          "text": [
            "['Ram Nayan', 'Ram Kinker', 'Ram Sharan', 'Ram Mohan']\n"
          ]
        }
      ],
      "source": [
        "# List Comprehension\n",
        "Name={'ram sharan','ram nayan','ram mohan','ram kinker'}\n",
        "Name_cap=[name.title() for name in Name]\n",
        "print(Name_cap)"
      ]
    },
    {
      "cell_type": "markdown",
      "metadata": {
        "id": "vkB6DwzsJ_6B"
      },
      "source": []
    }
  ],
  "metadata": {
    "kernelspec": {
      "display_name": "Python 3",
      "language": "python",
      "name": "python3"
    },
    "language_info": {
      "codemirror_mode": {
        "name": "ipython",
        "version": 3
      },
      "file_extension": ".py",
      "mimetype": "text/x-python",
      "name": "python",
      "nbconvert_exporter": "python",
      "pygments_lexer": "ipython3",
      "version": "3.8.5"
    },
    "colab": {
      "provenance": [],
      "include_colab_link": true
    }
  },
  "nbformat": 4,
  "nbformat_minor": 0
}