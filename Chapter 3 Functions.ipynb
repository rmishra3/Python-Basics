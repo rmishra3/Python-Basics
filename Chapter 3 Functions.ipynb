{
 "cells": [
  {
   "cell_type": "markdown",
   "metadata": {},
   "source": [
    "# Functions"
   ]
  },
  {
   "cell_type": "code",
   "execution_count": 5,
   "metadata": {},
   "outputs": [
    {
     "name": "stdout",
     "output_type": "stream",
     "text": [
      "Average of 0.13271569364143387 and 0.162740355060898 is 0.14772802435116594\n",
      "Average of 0.16389899510890726 and 0.7109592440849621 is 0.4374291195969347\n",
      "Average of 0.45244106162261266 and 0.9131302445413545 is 0.6827856530819836\n",
      "Average of 0.7365088637783545 and 0.0029265605384244386 is 0.36971771215838944\n",
      "Average of 0.790768706927787 and 0.89478719312635 is 0.8427779500270685\n"
     ]
    }
   ],
   "source": [
    "# Define function to calculate average value\n",
    "def RKM_AVG(x,y):\n",
    "    return (x+y)/2\n",
    "\n",
    "from random import random\n",
    "for i in range(5):\n",
    "    x1=random()\n",
    "    x2=random()\n",
    "    \n",
    "    Y=RKM_AVG(x1,x2)\n",
    "    print('Average of {} and {} is {}'.format(x1,x2,Y))"
   ]
  },
  {
   "cell_type": "code",
   "execution_count": 8,
   "metadata": {},
   "outputs": [
    {
     "name": "stdout",
     "output_type": "stream",
     "text": [
      "Welcome Shree Ram kinker Mishra in your property at Noida\n",
      "Welcome Shree Ram kinker Mishra in your property at Ayodhya\n",
      "Welcome Shree Ram kinker Mishra in your property at Faizabad\n"
     ]
    }
   ],
   "source": [
    "# Define function with positional argument and default argument\n",
    "def RKM_Greeting(y,x='Ram kinker Mishra'):\n",
    "    print('Welcome {} in your property at {}'.format(x,y))\n",
    "\n",
    "Property=['Noida','Ayodhya','Faizabad']\n",
    "for i in Property:\n",
    "    RKM_Greeting(i, 'Shree Ram kinker Mishra')"
   ]
  }
 ],
 "metadata": {
  "kernelspec": {
   "display_name": "Python 3",
   "language": "python",
   "name": "python3"
  },
  "language_info": {
   "codemirror_mode": {
    "name": "ipython",
    "version": 3
   },
   "file_extension": ".py",
   "mimetype": "text/x-python",
   "name": "python",
   "nbconvert_exporter": "python",
   "pygments_lexer": "ipython3",
   "version": "3.8.5"
  }
 },
 "nbformat": 4,
 "nbformat_minor": 4
}
