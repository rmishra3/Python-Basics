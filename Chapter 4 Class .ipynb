{
 "cells": [
  {
   "cell_type": "code",
   "execution_count": 11,
   "metadata": {},
   "outputs": [],
   "source": [
    "# Defining Class\n",
    "class Patient():\n",
    "    # init method is to provide the initial values for the attributes\n",
    "    def __init__(self,Name,Age,Height,Weight):\n",
    "        self.Name=Name\n",
    "        self.Age=Age\n",
    "        self.Height=Height\n",
    "        self.Weight=Weight\n",
    "        \n",
    "    # Method to pass attribute values\n",
    "    def BMI(self):\n",
    "        return self.Weight/(self.Height*self.Height)\n",
    "    \n",
    "    # Method to pass key value attribute\n",
    "    def Birth_Year(self, Year=2021):\n",
    "        return Year-self.Age"
   ]
  },
  {
   "cell_type": "code",
   "execution_count": 13,
   "metadata": {},
   "outputs": [
    {
     "data": {
      "text/plain": [
       "1986"
      ]
     },
     "execution_count": 13,
     "metadata": {},
     "output_type": "execute_result"
    }
   ],
   "source": [
    "Patient1 = Patient('Ram kinker Mishra', 35, 1.60, 99)\n",
    "Patient1.BMI()\n",
    "Patient1.Height\n",
    "Patient1.Birth_Year()"
   ]
  },
  {
   "cell_type": "markdown",
   "metadata": {},
   "source": [
    "# Inheritence"
   ]
  },
  {
   "cell_type": "code",
   "execution_count": 14,
   "metadata": {},
   "outputs": [],
   "source": [
    "# Define the parent class as the attribute of child class\n",
    "class Diabetes(Patient):\n",
    "    def __init__(self,Name,Age,Height,Weight,Duration):\n",
    "        # super() is the way to inherit attributes and method from the parent class (Patient in this case is the parent class)\n",
    "        super().__init__(Name,Age,Height,Weight)\n",
    "        # Duratiuon is the additional attribute unique to diabetes class\n",
    "        self.Duration=Duration\n",
    "        \n",
    "    # Method unique to diabetes using inherited method from the parent class \n",
    "    # Self transfers all the attributes and methods from the parent class.\n",
    "    def Warning(self):\n",
    "        if self.BMI()>30:\n",
    "            print('You are overweight.You need to loose weight immedietely.')\n",
    "            # and, or not are the noolean operators\n",
    "        elif self.BMI()<30 and self.BMI()>25: \n",
    "            print('You are overweight.You need to loose weight immedietely.')\n",
    "        else:\n",
    "            print('You are fine')"
   ]
  },
  {
   "cell_type": "code",
   "execution_count": 17,
   "metadata": {},
   "outputs": [
    {
     "name": "stdout",
     "output_type": "stream",
     "text": [
      "You are overweight.You need to loose weight immedietely.\n"
     ]
    }
   ],
   "source": [
    "Patient2=Diabetes(\"Ram kinker Mishra\",35,1.6,99,15)\n",
    "Patient2.Warning()"
   ]
  }
 ],
 "metadata": {
  "kernelspec": {
   "display_name": "Python 3",
   "language": "python",
   "name": "python3"
  },
  "language_info": {
   "codemirror_mode": {
    "name": "ipython",
    "version": 3
   },
   "file_extension": ".py",
   "mimetype": "text/x-python",
   "name": "python",
   "nbconvert_exporter": "python",
   "pygments_lexer": "ipython3",
   "version": "3.8.5"
  }
 },
 "nbformat": 4,
 "nbformat_minor": 4
}
